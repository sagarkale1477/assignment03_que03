{
 "cells": [
  {
   "cell_type": "code",
   "execution_count": 2,
   "id": "16a665b3",
   "metadata": {},
   "outputs": [
    {
     "name": "stdout",
     "output_type": "stream",
     "text": [
      "The quick Brow Fox\n",
      "No. of upper case characters : 3\n",
      "No. of lower case characters : 12\n"
     ]
    }
   ],
   "source": [
    "def String_count(a):\n",
    "    check_lower=0\n",
    "    check_upper=0\n",
    "    for i in a:\n",
    "        if(i.islower()):\n",
    "            check_lower=check_lower+1\n",
    "        elif(i.isupper()):\n",
    "            check_upper=check_upper+1\n",
    "    print(\"No. of upper case characters :\",check_upper)\n",
    "    print(\"No. of lower case characters :\",check_lower)\n",
    "s=input(\"\")       \n",
    "String_count(s)"
   ]
  },
  {
   "cell_type": "code",
   "execution_count": null,
   "id": "062f5b69",
   "metadata": {},
   "outputs": [],
   "source": []
  }
 ],
 "metadata": {
  "kernelspec": {
   "display_name": "Python 3 (ipykernel)",
   "language": "python",
   "name": "python3"
  },
  "language_info": {
   "codemirror_mode": {
    "name": "ipython",
    "version": 3
   },
   "file_extension": ".py",
   "mimetype": "text/x-python",
   "name": "python",
   "nbconvert_exporter": "python",
   "pygments_lexer": "ipython3",
   "version": "3.10.4"
  }
 },
 "nbformat": 4,
 "nbformat_minor": 5
}
